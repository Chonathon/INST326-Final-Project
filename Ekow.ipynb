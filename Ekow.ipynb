{
 "cells": [
  {
   "cell_type": "markdown",
   "metadata": {},
   "source": [
    "I will be working on the second and third semester classes. \n",
    "Focus on the the 100 and 200 level core courses \n",
    "Take into account the preferred progression (indicated by prereqs)\n",
    "\n",
    "Major Courses\n",
    "INST201 (3 credits) Introduction to Information Science\n",
    "INST311 (3 credits) Information Organization\n",
    "INST314 (3 credits) Statistics for Information Science [prereq: MATH115, STAT100]\n",
    "INST326 (3 credits) Object-Oriented Programming for Information Science [prereq: INST126]\n",
    "INST327 (3 credits) Database Design and Modeling [prereq: INST126]\n",
    "INST335 (3 credits) Teams and Organizations [prereq: INST201 and PSYC100]\n",
    "INST346 (3 credits) Technologies, Infrastructures and Architecture [prereq: INST326, and INST327]\n",
    "INST352 (3 credits) Information User Needs and Assessment [prereq:INST311]\n",
    "INST362 (3 credits) User-Centered Design [prereq: INST326]\n",
    "INST490 (3 credits) Integrative Capstone [prereq: INST314, INST335, INST346, INST352, INST362]\n",
    "\n",
    "Therefore 2nd semester will include\n",
    "INST 311\n",
    "INST 314\n",
    "INST 326\n",
    "INST 327\n",
    "INST 335\n",
    "\n",
    "3rd semester will include\n",
    "INST 346\n",
    "INST 352\n",
    "INST 362\n",
    "two upper level classes of choice\n",
    "\n",
    "\n",
    "Which means students are only required to take 3 upper level classes in the 4th semester plus INST 490. "
   ]
  },
  {
   "cell_type": "code",
   "execution_count": 79,
   "metadata": {},
   "outputs": [
    {
     "name": "stdout",
     "output_type": "stream",
     "text": [
      " Great job James you have made it to the next semester, here are the classes you are to take this semester\n"
     ]
    }
   ],
   "source": [
    "name = \"James\"\n",
    "print(f\" Great job {name} you have made it to the next semester, here are the classes you are to take this semester\")"
   ]
  },
  {
   "cell_type": "code",
   "execution_count": 80,
   "metadata": {},
   "outputs": [
    {
     "name": "stdout",
     "output_type": "stream",
     "text": [
      "  Classcode                                            Subject\n",
      "0   INST311                           Information Organization\n",
      "1   INST314                 Statistics For Information Science\n",
      "2   INST326  Object Oriented Programming for Information Sc...\n",
      "3   INST327                       Database Design and Modeling\n",
      "4   INST335                Information Teams and Organizations\n",
      "These are the classes you have taken so far\n",
      "['INST311', 'INST314', 'INST326', 'INST327', 'INST335']\n"
     ]
    }
   ],
   "source": [
    "import pandas as pd\n",
    "def second_semester(data2):\n",
    "    \n",
    "    data2 = [\n",
    "        {\"Classcode\": \"INST311\", \"Subject\": \"Information Organization\"},\n",
    "        {\"Classcode\": \"INST314\", \"Subject\": \"Statistics For Information Science\"},\n",
    "        {\"Classcode\": \"INST326\", \"Subject\": \"Object Oriented Programming for Information Science\"},\n",
    "        {\"Classcode\": \"INST327\", \"Subject\": \"Database Design and Modeling\"},\n",
    "        {\"Classcode\": \"INST335\", \"Subject\": \"Information Teams and Organizations\"}\n",
    "    ]\n",
    "    \n",
    "    df = pd.DataFrame(data2)\n",
    "    print(df)\n",
    "    \n",
    "    \n",
    "    classes_taken = [ sub['Classcode'] for sub in data2 ]\n",
    "    #for classcode, subject in data2:\n",
    "       #classes_taken.append(data2.get(\"Classcode\", \"subject\"))\n",
    "    print(\"These are the classes you have taken so far\")    \n",
    "    print(classes_taken)\n",
    "    \n",
    "second_semester(data2)"
   ]
  },
  {
   "cell_type": "code",
   "execution_count": 81,
   "metadata": {},
   "outputs": [
    {
     "name": "stdout",
     "output_type": "stream",
     "text": [
      "Congratulations James you have made it into your third semester. You're almost there!\n",
      "This semester you are allowed to choose two optional classes but these are you required ones\n"
     ]
    }
   ],
   "source": [
    "name = \"James\"\n",
    "print(f\"Congratulations {name} you have made it into your third semester. You're almost there!\")\n",
    "print(\"This semester you are allowed to choose two optional classes but these are you required ones\")"
   ]
  },
  {
   "cell_type": "code",
   "execution_count": 90,
   "metadata": {},
   "outputs": [],
   "source": [
    "import pandas as pd\n",
    "def third_semester(data3, optional_classes):\n",
    "    data3 = [\n",
    "        {\"Classcode\": \"INST346\", \"Subject\": \"Technologies, Infrastructures and Architecture\"},\n",
    "        {\"Classcode\": \"INST352\", \"Subject\": \"Information User Needs and Assessment\"},\n",
    "        {\"Classcode\": \"INST362\", \"Subject\": \"User-Centered Design\"}\n",
    "    ]\n",
    "    \n",
    "    df = pd.DataFrame(data3)\n",
    "    print(df)\n",
    "    \n",
    "    optional_classes = [\n",
    "        {\"Classcode\": \"INST354\", \"Subject\": \"Decision Making for Information Science\"},\n",
    "        {\"Classcode\": \"INST377\", \"Subject\": \"Dynamic Web Applications\"},\n",
    "        {\"Classcode\": \"INST414\", \"Subject\": \"Advanced Data Science\"},\n",
    "        {\"Classcode\": \"INST447\", \"Subject\": \"Data Sources and Manipulation\"},\n",
    "        {\"Classcode\": \"INST462\", \"Subject\": \"Intro to Data Visualization\"}\n",
    "    ]\n",
    "    \n",
    "    df2 = pd.DataFrame(optional_classes)\n",
    "    print(df2)\n",
    "    \n"
   ]
  },
  {
   "cell_type": "code",
   "execution_count": 91,
   "metadata": {},
   "outputs": [],
   "source": [
    "# To make sure user chooses availbale classes\n",
    "import pandas as pd\n",
    "def optional(options):\n",
    "    \n",
    "    options = {\n",
    "    1: {'Classcode': 'INST354'},\n",
    "    2: {'Classcode': 'INST377'},\n",
    "    3: {'Classcode': 'INST414'},\n",
    "    4: {'Classcode': 'INST447'},\n",
    "    5: {'Classcode': 'INST462'}\n",
    "    }\n",
    "    \n",
    "    print(\"Options:\")\n",
    "    for x, y in options.items():\n",
    "        print(x, ':', options[x]['Classcode'])\n",
    " \n",
    "    while True:\n",
    "        print(\"\\nSelect an optional class:\")\n",
    "        c_val = int(input())\n",
    " \n",
    "        if c_val in options.keys():\n",
    "            c_val = int(c_val)\n",
    "            print(\"\\nYou have chosen {0}\".format(options[c_val]['Classcode']))\n",
    "        else:\n",
    "            raise KeyError(\"You have chosen wrong!\")"
   ]
  }
 ],
 "metadata": {
  "interpreter": {
   "hash": "3a317ed9b721cfcd297d9b351a43fe83d262fd3c3b15d98664d29163e1e9154a"
  },
  "kernelspec": {
   "display_name": "Python 3.9.0 64-bit",
   "language": "python",
   "name": "python3"
  },
  "language_info": {
   "codemirror_mode": {
    "name": "ipython",
    "version": 3
   },
   "file_extension": ".py",
   "mimetype": "text/x-python",
   "name": "python",
   "nbconvert_exporter": "python",
   "pygments_lexer": "ipython3",
   "version": "3.9.0"
  },
  "orig_nbformat": 4
 },
 "nbformat": 4,
 "nbformat_minor": 2
}
