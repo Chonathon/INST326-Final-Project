{
 "cells": [
  {
   "cell_type": "markdown",
   "metadata": {},
   "source": [
    "I will be working on the second and third semester classes. \n",
    "Focus on the the 100 and 200 level core courses \n",
    "Take into account the preferred progression (indicated by prereqs)\n",
    "\n",
    "Major Courses\n",
    "INST201 (3 credits) Introduction to Information Science\n",
    "INST311 (3 credits) Information Organization\n",
    "INST314 (3 credits) Statistics for Information Science [prereq: MATH115, STAT100]\n",
    "INST326 (3 credits) Object-Oriented Programming for Information Science [prereq: INST126]\n",
    "INST327 (3 credits) Database Design and Modeling [prereq: INST126]\n",
    "INST335 (3 credits) Teams and Organizations [prereq: INST201 and PSYC100]\n",
    "INST346 (3 credits) Technologies, Infrastructures and Architecture [prereq: INST326, and INST327]\n",
    "INST352 (3 credits) Information User Needs and Assessment [prereq:INST311]\n",
    "INST362 (3 credits) User-Centered Design [prereq: INST326]\n",
    "INST490 (3 credits) Integrative Capstone [prereq: INST314, INST335, INST346, INST352, INST362]\n",
    "\n",
    "Therefore 2nd semester will include\n",
    "INST 311\n",
    "INST 314\n",
    "INST 326\n",
    "INST 327\n",
    "INST 335\n",
    "\n",
    "3rd semester will include\n",
    "INST 346\n",
    "INST 352\n",
    "INST 362\n",
    "two upper level classes of choice\n",
    "\n",
    "\n",
    "Which means students are only required to take 3 upper level classes in the 4th semester plus INST 490. "
   ]
  },
  {
   "cell_type": "code",
   "execution_count": 79,
   "metadata": {},
   "outputs": [
    {
     "name": "stdout",
     "output_type": "stream",
     "text": [
      " Great job James you have made it to the next semester, here are the classes you are to take this semester\n"
     ]
    }
   ],
   "source": [
    "name = \"James\"\n",
    "print(f\" Great job {name} you have made it to the next semester, here are the classes you are to take this semester\")"
   ]
  },
  {
   "cell_type": "code",
   "execution_count": 80,
   "metadata": {},
   "outputs": [
    {
     "name": "stdout",
     "output_type": "stream",
     "text": [
      "  Classcode                                            Subject\n",
      "0   INST311                           Information Organization\n",
      "1   INST314                 Statistics For Information Science\n",
      "2   INST326  Object Oriented Programming for Information Sc...\n",
      "3   INST327                       Database Design and Modeling\n",
      "4   INST335                Information Teams and Organizations\n",
      "These are the classes you have taken so far\n",
      "['INST311', 'INST314', 'INST326', 'INST327', 'INST335']\n"
     ]
    }
   ],
   "source": [
    "import pandas as pd\n",
    "def second_semester(data2):\n",
    "    \"\"\"\n",
    "    This function is meant to display and apply the required classes for the second semester\n",
    "\n",
    "    Args:\n",
    "        data2 (list): list of the required core classes for the second semester\n",
    "    \"\"\"\n",
    "    \n",
    "    data2 = [\n",
    "        {\"Classcode\": \"INST311\", \"Subject\": \"Information Organization\"},\n",
    "        {\"Classcode\": \"INST314\", \"Subject\": \"Statistics For Information Science\"},\n",
    "        {\"Classcode\": \"INST326\", \"Subject\": \"Object Oriented Programming for Information Science\"},\n",
    "        {\"Classcode\": \"INST327\", \"Subject\": \"Database Design and Modeling\"},\n",
    "        {\"Classcode\": \"INST335\", \"Subject\": \"Information Teams and Organizations\"}\n",
    "    ]\n",
    "    \n",
    "    df = pd.DataFrame(data2)\n",
    "    print(df)\n",
    "    \n",
    "    \n",
    "    classes_taken = [ sub['Classcode'] for sub in data2 ]\n",
    "    #for classcode, subject in data2:\n",
    "       #classes_taken.append(data2.get(\"Classcode\", \"subject\"))\n",
    "    print(\"These are the classes you have taken so far\")    \n",
    "    print(classes_taken)\n",
    "    \n",
    "second_semester(data2)"
   ]
  },
  {
   "cell_type": "code",
   "execution_count": 81,
   "metadata": {},
   "outputs": [
    {
     "name": "stdout",
     "output_type": "stream",
     "text": [
      "Congratulations James you have made it into your third semester. You're almost there!\n",
      "This semester you are allowed to choose two optional classes but these are you required ones\n"
     ]
    }
   ],
   "source": [
    "name = \"James\"\n",
    "print(f\"Congratulations {name} you have made it into your third semester. You're almost there!\")\n",
    "print(\"This semester you are allowed to choose two optional classes but these are you required ones\")"
   ]
  },
  {
   "cell_type": "code",
   "execution_count": 6,
   "metadata": {},
   "outputs": [],
   "source": [
    "import pandas as pd\n",
    "class New_semester:\n",
    "    \n",
    "    def third_semester(data3, optional_classes):\n",
    "        \"\"\"\n",
    "        This function applies the classes that are reuired for the semester and displays the available optional classes\n",
    "\n",
    "        Args:\n",
    "            data3 (list): list of all core classes without prerequisits\n",
    "            optional_classes (list): list of classes that user can choose from in addition to required core classes\n",
    "        \"\"\"\n",
    "        data3 = [\n",
    "            {\"Classcode\": \"INST346\", \"Subject\": \"Technologies, Infrastructures and Architecture\"},\n",
    "            {\"Classcode\": \"INST352\", \"Subject\": \"Information User Needs and Assessment\"},\n",
    "            {\"Classcode\": \"INST362\", \"Subject\": \"User-Centered Design\"}\n",
    "        ]\n",
    "        \n",
    "        df = pd.DataFrame(data3)\n",
    "        print(df)\n",
    "        \n",
    "        optional_classes = [\n",
    "            {\"Classcode\": \"INST354\", \"Subject\": \"Decision Making for Information Science\"},\n",
    "            {\"Classcode\": \"INST377\", \"Subject\": \"Dynamic Web Applications\"},\n",
    "            {\"Classcode\": \"INST414\", \"Subject\": \"Advanced Data Science\"},\n",
    "            {\"Classcode\": \"INST401\", \"Subject\": \"Design and Human Disability and Aging\"},\n",
    "            {\"Classcode\": \"INST341\", \"Subject\": \"Introduction to Digital Curation\"}, \n",
    "            {\"Classcode\": \"INST441\", \"Subject\": \"Digital Curation Across Disciplines\"},  \n",
    "            {\"Classcode\": \"INST402\", \"Subject\": \"Designing Patient-Centered Technologies\"} \n",
    "        ]\n",
    "        \n",
    "        df2 = pd.DataFrame(optional_classes)\n",
    "        print(df2)\n",
    "    \n",
    "    \n",
    "    def choices(optional_classes):\n",
    "        classes_chosen = [\"INST346\", \"INST352\", \"INST352\"]\n",
    "        \n",
    "        #print(\"What optional class would you like to enrol in?\")\n",
    "        choice1 = input(\"What optional class would you like to enrol in?\")\n",
    "        if choice1 == optional_classes[\"Classcode\"]:\n",
    "            classes_chosen.append(choice1)\n",
    "        else:\n",
    "            ValueError (\"Pick an available option\")\n",
    "        \n",
    "        \n",
    "        choice2 = input(\"Pick another optional class would you like to enrol in\")\n",
    "        if choice2 == optional_classes[\"Classcode\"]:\n",
    "            classes_chosen.append(choice2)\n",
    "        else:\n",
    "            ValueError (\"Pick an available option\")\n",
    "            \n",
    "        print(classes_chosen)\n",
    "    \n",
    "    \n",
    "    \n"
   ]
  },
  {
   "cell_type": "code",
   "execution_count": 8,
   "metadata": {},
   "outputs": [
    {
     "name": "stdout",
     "output_type": "stream",
     "text": [
      "Congratulations James you have made it throught the third semester. Now it is time for you to tackle your last semester!\n"
     ]
    }
   ],
   "source": [
    "name = \"James\"\n",
    "print(f\"Congratulations {name} you have made it throught the third semester. Now it is time for you to tackle your last semester!\")"
   ]
  },
  {
   "cell_type": "code",
   "execution_count": 9,
   "metadata": {},
   "outputs": [],
   "source": [
    "import pandas as pd\n",
    "class Another_semester:\n",
    "\n",
    "    def fourth_semester(data4, optional_courses):\n",
    "        \n",
    "        data4 = {\"Classcode\": \"INST490\", \"Subject\": \"Integrative Capstone\"}\n",
    "        df = pd.DataFrame(data4)\n",
    "        print(df)\n",
    "        \n",
    "        optional_courses = [\n",
    "                {\"Classcode\": \"INST447\", \"Subject\": \"Data Sources and Manipulation\"},\n",
    "                {\"Classcode\": \"INST462\", \"Subject\": \"Intro to Data Visualization\"}, \n",
    "                {\"Classcode\": \"INST408A\", \"Subject\": \"Consumer Health Informatics\"}, \n",
    "                {\"Classcode\": \"INST452\", \"Subject\": \"Health Data Analytics\"}, \n",
    "                {\"Classcode\": \"INST443\", \"Subject\": \"Tools and Methods for Digital Curation\"}, \n",
    "                {\"Classcode\": \"INST402\", \"Subject\": \"Digital Curation Research\"}\n",
    "            ]\n",
    "        df2 = pd.DataFrame(optional_courses)\n",
    "        print(df2)\n",
    "        \n",
    "        \n",
    "        \n",
    "    def Pick(optional_courses):\n",
    "        classes_chosen = [\"INST490\"]\n",
    "        \n",
    "        \n",
    "        choice1 = input(\"What optional class would you like to enrol in?\")\n",
    "        if choice1 == optional_courses[\"Classcode\"]:\n",
    "            classes_chosen.append(choice1)\n",
    "        else:\n",
    "            ValueError (\"Pick an available option\")\n",
    "        \n",
    "        \n",
    "        choice2 = input(\"Pick another optional class would you like to enrol in\")\n",
    "        if choice2 == optional_courses[\"Classcode\"]:\n",
    "            classes_chosen.append(choice2)\n",
    "        else:\n",
    "            ValueError (\"Pick an available option\")\n",
    "            \n",
    "            \n",
    "        choice3 = input(\"Pick another optional class would you like to enrol in\")\n",
    "        if choice2 == optional_courses[\"Classcode\"]:\n",
    "            classes_chosen.append(choice3)\n",
    "        else:\n",
    "            ValueError (\"Pick an available option\")\n",
    "        \n",
    "            "
   ]
  },
  {
   "cell_type": "code",
   "execution_count": 2,
   "metadata": {},
   "outputs": [
    {
     "name": "stdout",
     "output_type": "stream",
     "text": [
      "You did it James!. Congratulations on completing the Information Science program at the University of Maryland, College Park\n"
     ]
    }
   ],
   "source": [
    "name = \"James\"\n",
    "print(f\"You did it {name}!. Congratulations on completing the Information Science program at the University of Maryland, College Park\")"
   ]
  },
  {
   "cell_type": "code",
   "execution_count": null,
   "metadata": {},
   "outputs": [],
   "source": [
    "# If a student has taken all 10 major classes and has 60 credits\n",
    "def Graduate(classes_chosen, data2, data3, data4):\n",
    "    if classes_chosen == data2 and classes_chosen == data3 and classes_chosen == data4:\n",
    "        print(\"All major courses have been satisfied\")"
   ]
  }
 ],
 "metadata": {
  "interpreter": {
   "hash": "3a317ed9b721cfcd297d9b351a43fe83d262fd3c3b15d98664d29163e1e9154a"
  },
  "kernelspec": {
   "display_name": "Python 3.9.0 64-bit",
   "language": "python",
   "name": "python3"
  },
  "language_info": {
   "codemirror_mode": {
    "name": "ipython",
    "version": 3
   },
   "file_extension": ".py",
   "mimetype": "text/x-python",
   "name": "python",
   "nbconvert_exporter": "python",
   "pygments_lexer": "ipython3",
   "version": "3.9.0"
  },
  "orig_nbformat": 4
 },
 "nbformat": 4,
 "nbformat_minor": 2
}
