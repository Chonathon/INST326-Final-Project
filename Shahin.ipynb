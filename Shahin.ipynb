{
 "cells": [
  {
   "cell_type": "code",
   "execution_count": 2,
   "id": "charged-vatican",
   "metadata": {},
   "outputs": [
    {
     "name": "stdin",
     "output_type": "stream",
     "text": [
      "What is your name? Shahin\n"
     ]
    },
    {
     "name": "stdout",
     "output_type": "stream",
     "text": [
      "Welcome Shahin to the InfoSci Course Planner.\n"
     ]
    }
   ],
   "source": [
    "applicant = input(\"What is your name?\")\n",
    "print(\"Welcome\", applicant, \"to the InfoSci Course Planner.\")"
   ]
  },
  {
   "cell_type": "code",
   "execution_count": 3,
   "id": "hungry-spoke",
   "metadata": {},
   "outputs": [],
   "source": [
    "# A series of questions that is stored inside a dictionary.\n",
    "# Each question will be asked to determine if the user has taken any benchmark courses.\n",
    "# If the answers to each question are ‘yes,’ it will read the following question from this dictionary. \n",
    "# And if the answers are “no,” the user will receive a ‘text’ message explaining the specific class they have taken, which will be added to the course planner for the first semester.\n",
    "\n",
    "questions = {\n",
    "    'BenchmarkI':\n",
    "        {'prompt':'Have you taken MATH141(CalCulus)?', 'yes':'Question2', 'no':'bmath141'},\n",
    "    'Question2':\n",
    "        {'prompt':'Have you taken PSYC100?', 'yes':'BenchmarkII', 'no':'bpsyc100'},\n",
    "    'BenchmarkII':\n",
    "        {'prompt':'This section iss about BenchmarkII. If you are a transfer student, have you taken INST201?', 'yes':'Question3', 'no':'b2inst201'},\n",
    "    'Question3':\n",
    "        {'prompt':'Have you taken INST126(python)?', 'yes':'Question4', 'no':'b2inst126'},\n",
    "    'Question4':\n",
    "        {'prompt':'Have you taken STAT100(Statistics)?', 'yes':'courseplanner', 'no':'b2stat100'},    \n",
    "    'bmath141':\n",
    "        {'text':'Math141 will be added to your course plan for the first semester.', 'action':'end'},\n",
    "    'bpsyc100':\n",
    "        {'text':'PSYC100 will be added to your course plan for the first', 'action':'end'},\n",
    "    'b2inst201':\n",
    "        {'text':'INST201 will be added to your course plan for the first', 'action':'end'},\n",
    "    'b2inst126':\n",
    "        {'text':'INST126 will be added to your course plan for the first', 'action':'end'},\n",
    "    'b2stat100':\n",
    "        {'text':'STAT100 will be added to your course plan for the first', 'action':'end'},\n",
    "    'courseplanner':\n",
    "        {'text':'Welcome to the course planner!', 'action':'end'},\n",
    "}"
   ]
  },
  {
   "cell_type": "code",
   "execution_count": 4,
   "id": "committed-works",
   "metadata": {},
   "outputs": [
    {
     "name": "stdout",
     "output_type": "stream",
     "text": [
      "Please answer all questions using y/n\n"
     ]
    },
    {
     "name": "stdin",
     "output_type": "stream",
     "text": [
      "Have you taken MATH141(CalCulus)?\n",
      " >  Yes\n",
      "Have you taken PSYC100?\n",
      " >  Yes\n",
      "This section iss about BenchmarkII. If you are a transfer student, have you taken INST201?\n",
      " >  yes\n",
      "Have you taken INST126(python)?\n",
      " >  yes\n",
      "Have you taken STAT100(Statistics)?\n",
      " >  yes\n"
     ]
    },
    {
     "name": "stdout",
     "output_type": "stream",
     "text": [
      "Welcome to the course planner!\n"
     ]
    }
   ],
   "source": [
    "def intro_part(questions):\n",
    "    \"\"\"A series of questions that will be presented to the user to determine if \n",
    "    they have completed Benchmark courses.\n",
    "\n",
    "    Args:\n",
    "        questions (dict_str): Calling questions from a dict.\n",
    "    \"\"\"  \n",
    "    print(\"Please answer all questions using y/n\")\n",
    "\n",
    "    questionnaire = questions['BenchmarkI']\n",
    "    while True:\n",
    "        if 'text' in questionnaire.keys():\n",
    "            print(questionnaire['text'])\n",
    "\n",
    "        if 'action' in questionnaire.keys():\n",
    "            if questionnaire['action'] == 'end':\n",
    "                return\n",
    "\n",
    "        if 'prompt' in questionnaire.keys():\n",
    "            while True:\n",
    "                res = input(questionnaire['prompt']+\"\\n > \").lower()\n",
    "                if not res.lower() in ('yes','no'):\n",
    "                    print(\"Please Select your answer by typing yes or no, thank you!\")\n",
    "                    continue\n",
    "                break\n",
    "\n",
    "            questionnaire = questions[questionnaire[res]]\n",
    "\n",
    "intro_part(questions)"
   ]
  }
 ],
 "metadata": {
  "kernelspec": {
   "display_name": "Python 3",
   "language": "python",
   "name": "python3"
  },
  "language_info": {
   "codemirror_mode": {
    "name": "ipython",
    "version": 3
   },
   "file_extension": ".py",
   "mimetype": "text/x-python",
   "name": "python",
   "nbconvert_exporter": "python",
   "pygments_lexer": "ipython3",
   "version": "3.9.2"
  }
 },
 "nbformat": 4,
 "nbformat_minor": 5
}
