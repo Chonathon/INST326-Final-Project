{
 "cells": [
  {
   "cell_type": "code",
   "execution_count": 2,
   "metadata": {},
   "outputs": [],
   "source": [
    "import pandas as pd\n",
    "import re"
   ]
  },
  {
   "cell_type": "markdown",
   "metadata": {},
   "source": [
    "### Imports Json file into a dataframe and creating our table"
   ]
  },
  {
   "cell_type": "code",
   "execution_count": 3,
   "metadata": {},
   "outputs": [],
   "source": [
    "\n",
    "pd_df = pd.read_json(\"202008.json\")\n",
    "# imports umd data as a panda df\n",
    "# print(pd_df.head())\n",
    "\n",
<<<<<<< HEAD
<<<<<<< HEAD
    "info = pd_df[[\"course_id\", \"dept_id\", \"name\", \"credits\", \"relationships\"]]\n",
    "\n",
=======
>>>>>>> 7a11c6819d848739249aef6d28849f8cfdb8069d
=======
    "math115 = pd_df[pd_df[\"course_id\"] == \"MATH115\"]\n",
    "psych100 = pd_df[pd_df[\"course_id\"] == \"PSYCH100\"]\n",
    "stat100 = pd_df[pd_df[\"course_id\"] == \"STAT100\"]\n",
>>>>>>> parent of 2e54dd4 (hot fix)
    "\n",
    "inst_courses = pd_df[pd_df[\"dept_id\"] == \"INST\"][[\"course_id\", \"name\", \"credits\", \"relationships\"]]\n",
    "# filters df for courses where dept_id is \"INST\" and selects\n",
    "# columns listed\n",
<<<<<<< HEAD
    "\n",
<<<<<<< HEAD
    "inst_pgrm = pd.concat([math115, psych100, stat100, inst_courses])\n",
    "# joins benchmark courses into the working df\n",
    "\n",
    "inst_pgrm.head()\n"
=======
    "\n"
>>>>>>> 7a11c6819d848739249aef6d28849f8cfdb8069d
=======
    "inst_courses = pd.concat([math115, psych100, stat100,inst_courses])\n"
>>>>>>> parent of 2e54dd4 (hot fix)
   ]
  },
  {
   "cell_type": "markdown",
   "metadata": {},
   "source": [
    "### Adding the column 'core' to the dataframe"
   ]
  },
  {
   "cell_type": "code",
<<<<<<< HEAD
<<<<<<< HEAD
   "execution_count": 16,
=======
   "execution_count": 4,
>>>>>>> 7a11c6819d848739249aef6d28849f8cfdb8069d
=======
   "execution_count": 10,
>>>>>>> parent of 2e54dd4 (hot fix)
   "metadata": {},
   "outputs": [
    {
     "data": {
      "text/html": [
       "<div>\n",
       "<style scoped>\n",
       "    .dataframe tbody tr th:only-of-type {\n",
       "        vertical-align: middle;\n",
       "    }\n",
       "\n",
       "    .dataframe tbody tr th {\n",
       "        vertical-align: top;\n",
       "    }\n",
       "\n",
       "    .dataframe thead th {\n",
       "        text-align: right;\n",
       "    }\n",
       "</style>\n",
       "<table border=\"1\" class=\"dataframe\">\n",
       "  <thead>\n",
       "    <tr style=\"text-align: right;\">\n",
       "      <th></th>\n",
       "      <th>course_id</th>\n",
       "      <th>name</th>\n",
       "      <th>credits</th>\n",
<<<<<<< HEAD
<<<<<<< HEAD
       "      <th>description</th>\n",
       "      <th>grading_method</th>\n",
       "      <th>gen_ed</th>\n",
       "      <th>core</th>\n",
       "      <th>relationships</th>\n",
       "      <th>sections</th>\n",
       "      <th>semester</th>\n",
=======
       "      <th>relationships</th>\n",
>>>>>>> 7a11c6819d848739249aef6d28849f8cfdb8069d
=======
       "      <th>relationships</th>\n",
       "      <th>core</th>\n",
>>>>>>> parent of 2e54dd4 (hot fix)
       "    </tr>\n",
       "  </thead>\n",
       "  <tbody>\n",
       "    <tr>\n",
       "      <th>3027</th>\n",
       "      <td>INST201</td>\n",
       "      <td>Introduction to Information Science</td>\n",
       "      <td>3</td>\n",
<<<<<<< HEAD
<<<<<<< HEAD
       "      <td>NaN</td>\n",
       "      <td>NaN</td>\n",
       "      <td>NaN</td>\n",
       "      <td>True</td>\n",
       "      <td>{'coreqs': None, 'prereqs': None, 'formerly': ...</td>\n",
       "      <td>NaN</td>\n",
       "      <td>NaN</td>\n",
=======
       "      <td>{'coreqs': None, 'prereqs': None, 'formerly': ...</td>\n",
>>>>>>> 7a11c6819d848739249aef6d28849f8cfdb8069d
=======
       "      <td>{'coreqs': None, 'prereqs': None, 'formerly': ...</td>\n",
       "      <td>True</td>\n",
>>>>>>> parent of 2e54dd4 (hot fix)
       "    </tr>\n",
       "  </tbody>\n",
       "</table>\n",
       "</div>"
      ],
      "text/plain": [
       "     course_id                                 name  credits  \\\n",
       "3027   INST201  Introduction to Information Science        3   \n",
       "\n",
<<<<<<< HEAD
<<<<<<< HEAD
       "      credits description grading_method gen_ed  core  \\\n",
       "3027        3         NaN            NaN    NaN  True   \n",
       "\n",
       "                                          relationships sections  semester  \n",
       "3027  {'coreqs': None, 'prereqs': None, 'formerly': ...      NaN       NaN  "
      ]
     },
     "execution_count": 16,
=======
       "                                          relationships  \n",
       "3027  {'coreqs': None, 'prereqs': None, 'formerly': ...  "
      ]
     },
     "execution_count": 4,
>>>>>>> 7a11c6819d848739249aef6d28849f8cfdb8069d
=======
       "                                          relationships  core  \n",
       "3027  {'coreqs': None, 'prereqs': None, 'formerly': ...  True  "
      ]
     },
     "execution_count": 10,
>>>>>>> parent of 2e54dd4 (hot fix)
     "metadata": {},
     "output_type": "execute_result"
    }
   ],
   "source": [
    "# core = False\n",
    "\n",
    "# inst_courses[\"core\"] = core\n",
    "\n",
    "# inst_courses.loc[inst_courses['course_id'] == 'INST201', ['core']] = True\n",
    "# inst_courses.loc[inst_courses['course_id'] == 'INST311', ['core']] = True\n",
    "# inst_courses.loc[inst_courses['course_id'] == 'INST314', ['core']] = True\n",
    "# inst_courses.loc[inst_courses['course_id'] == 'INST326', ['core']] = True\n",
    "# inst_courses.loc[inst_courses['course_id'] == 'INST327', ['core']] = True\n",
    "# inst_courses.loc[inst_courses['course_id'] == 'INST335', ['core']] = True\n",
    "# inst_courses.loc[inst_courses['course_id'] == 'INST346 ', ['core']] = True\n",
    "# inst_courses.loc[inst_courses['course_id'] == 'INST352', ['core']] = True\n",
    "# inst_courses.loc[inst_courses['course_id'] == 'INST362', ['core']] = True\n",
    "# inst_courses.loc[inst_courses['course_id'] == 'INST490', ['core']] = True\n",
    "\n",
    "inst_courses[inst_courses[\"course_id\"] == \"INST201\"]"
   ]
  },
  {
   "cell_type": "code",
<<<<<<< HEAD
<<<<<<< HEAD
   "execution_count": 13,
=======
   "execution_count": 5,
>>>>>>> 7a11c6819d848739249aef6d28849f8cfdb8069d
=======
   "execution_count": null,
>>>>>>> parent of 2e54dd4 (hot fix)
   "metadata": {},
   "outputs": [],
   "source": [
    "benchmark_I = False\n",
    "\n",
    "inst_courses[\"benchmark_I\"] = benchmark_I\n",
    "\n"
   ]
  },
  {
   "cell_type": "markdown",
   "metadata": {},
   "source": [
    "### Finding the prereq info for a course"
   ]
  },
  {
   "cell_type": "code",
   "execution_count": 5,
   "metadata": {},
   "outputs": [
    {
     "name": "stdout",
     "output_type": "stream",
     "text": [
      "['1 course with a minimum grade of C- from (INST201, INST301); and minimum grade of C- in INST326; and minimum grade of C- in PSYC100.']\n",
      "['INST201', 'INST301', 'INST326', 'PSYC100']\n"
     ]
    }
   ],
   "source": [
    "course = [d.get(\"prereqs\") for d in inst_courses[inst_courses[\"course_id\"] == \"INST362\"].relationships]\n",
    "# change the course_id above to find info on a different class\n",
    "# this could be changed to a variable to make it dynamic\n",
    "print(course)\n",
    "regex = r\"\"\"\n",
    "(?xm)\n",
    "(?P<course>[A-Z]+\\d+)\n",
    "\"\"\"\n",
    "\n",
    "courses = re.findall(regex, str(course))\n",
    "print(courses)"
   ]
  },
  {
   "cell_type": "code",
   "execution_count": null,
   "metadata": {},
   "outputs": [],
   "source": []
  }
 ],
 "metadata": {
  "interpreter": {
   "hash": "aee8b7b246df8f9039afb4144a1f6fd8d2ca17a180786b69acc140d282b71a49"
  },
  "kernelspec": {
   "display_name": "Python 3.9.6 64-bit",
   "language": "python",
   "name": "python3"
  },
  "language_info": {
   "codemirror_mode": {
    "name": "ipython",
    "version": 3
   },
   "file_extension": ".py",
   "mimetype": "text/x-python",
   "name": "python",
   "nbconvert_exporter": "python",
   "pygments_lexer": "ipython3",
   "version": "3.9.0"
  },
  "orig_nbformat": 4
 },
 "nbformat": 4,
 "nbformat_minor": 2
}
