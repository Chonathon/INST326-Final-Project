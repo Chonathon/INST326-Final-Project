{
 "cells": [
  {
   "cell_type": "code",
   "execution_count": 2,
   "metadata": {},
   "outputs": [
    {
     "name": "stdout",
     "output_type": "stream",
     "text": [
      "course_id\n",
      "semester\n",
      "name\n",
      "dept_id\n",
      "department\n",
      "credits\n",
      "description\n",
      "grading_method\n",
      "gen_ed\n",
      "core\n",
      "relationships\n",
      "sections\n",
      "\n",
      "ANTH461\n",
      "\n"
     ]
    }
   ],
   "source": [
    "# Python program to read\n",
    "# json file\n",
    " \n",
    " \n",
    "import json\n",
    " \n",
    "# Opening JSON file\n",
    "with open('202008.json') as f:\n",
    " \n",
    "# returns JSON object as\n",
    "# a dictionary\n",
    "    data = json.load(f)\n",
    "    \n",
    "\n",
    "    \n",
    "# Iterate through the json list and grab the item from the first index\n",
    "for i in data[0]:\n",
    "    print(i)\n",
    "\n",
    "print()\n",
    "\n",
    "# Iterate through the json list and grab the item at index 190 with the key \n",
    "# \"course_id\"\n",
    "  \n",
    "print(data[190][\"course_id\"])\n",
    "\n",
    "print()\n",
    "\n",
    "\n"
   ]
  },
  {
   "cell_type": "code",
   "execution_count": 5,
   "metadata": {},
   "outputs": [
    {
     "name": "stdout",
     "output_type": "stream",
     "text": [
      "['INST123', 'INST126', 'INST152', 'INST154', 'INST155', 'INST201', 'INST208L', 'INST301', 'INST309', 'INST311', 'INST314', 'INST326', 'INST327', 'INST335', 'INST341', 'INST346', 'INST352', 'INST354', 'INST362', 'INST364', 'INST366', 'INST377', 'INST408A', 'INST408I', 'INST408O', 'INST414', 'INST442', 'INST447', 'INST462', 'INST466', 'INST490', 'INST604', 'INST608B', 'INST610', 'INST613', 'INST615', 'INST620', 'INST627', 'INST630', 'INST631', 'INST638', 'INST639A', 'INST639B', 'INST639C', 'INST639D', 'INST643', 'INST650', 'INST651', 'INST661', 'INST682', 'INST704', 'INST709', 'INST710', 'INST737', 'INST752', 'INST753', 'INST754', 'INST760', 'INST775', 'INST782', 'INST799', 'INST800', 'INST808', 'INST810', 'INST878A', 'INST878B', 'INST878C', 'INST878E', 'INST888', 'INST898', 'INST899']\n"
     ]
    }
   ],
   "source": [
    "\n",
    "courses = []\n",
    "#iterated through the json list and append all course_ids to the courses list\n",
    "for i in data:\n",
    "    courses.append(i[\"course_id\"])\n",
    "\n",
    "\n",
    "\n",
    "# iterates through the courses list and finds all courses that have 'INST'\n",
    "# in the item\n",
    "\n",
    "inst = []\n",
    "for o in courses:\n",
    "    if \"INST\" in o:\n",
    "        inst.append(o)\n",
    "\n",
    "print(inst)\n",
    "\n",
    "\n",
    "\n",
    "\n"
   ]
  },
  {
   "cell_type": "code",
   "execution_count": 17,
   "metadata": {},
   "outputs": [
    {
     "name": "stdout",
     "output_type": "stream",
     "text": [
      "this\n"
     ]
    }
   ],
   "source": [
    "my_list = [\"this\", \"and\", \"that\"]\n",
    "\n",
    "for o in my_list:\n",
    "    if \"is\" in o:\n",
    "        print(o)"
   ]
  },
  {
   "cell_type": "code",
   "execution_count": null,
   "metadata": {},
   "outputs": [],
   "source": []
  }
 ],
 "metadata": {
  "language_info": {
   "name": "python"
  },
  "orig_nbformat": 4
 },
 "nbformat": 4,
 "nbformat_minor": 2
}
