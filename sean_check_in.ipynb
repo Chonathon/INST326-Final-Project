{
 "cells": [
  {
   "cell_type": "code",
   "execution_count": 20,
   "metadata": {},
   "outputs": [
    {
     "data": {
      "text/plain": [
       "[]"
      ]
     },
     "execution_count": 20,
     "metadata": {},
     "output_type": "execute_result"
    }
   ],
   "source": [
    "import json\n",
    "\n",
    "\n",
    "def get_course_path(path, course_code):\n",
    "    \"\"\"Imports a json file from a directory and iterates through it to find\n",
    "    all course names.\n",
    "\n",
    "    Args:\n",
    "        path (filepath): The path to the json file\n",
    "        course_code (str): prefix of the course names associated with program of \n",
    "    choice.\n",
    "    \n",
    "    Returns:\n",
    "        program_courses (list): List of dictionaries containing information \n",
    "    about each course's course number, prerequisites, and corequisits.\n",
    "            \n",
    "    Side effects:\n",
    "        - Converts Json file object to python object called 'data'.\n",
    "        - Creates a new list called 'courses_relationship' that parses 'data'\n",
    "    object for keys called 'course_id' and 'relationships.\n",
    "        - Creates a new list called 'program_courses' that parses \n",
    "    'courses_relationship' for items that contain the specified course code.\n",
    "    \n",
    "    \"\"\"\n",
    "    with open(path) as f:\n",
    "        data = json.load(f)\n",
    "       \n",
    "    courses_relationship = [{k:v for k,v in x.items() if k in [\"course_id\", \"relationships\"]} for x in data]\n",
    "    \n",
    "    program_courses = []\n",
    "    for k in courses_relationship:\n",
    "        if k.get(\"course_id\").startswith(course_code):\n",
    "            program_courses.append(k)\n",
    "    return program_courses  \n",
    "\n",
    "\n",
    "get_course_path(\"202008.json\", \"INT\")"
   ]
  },
  {
   "cell_type": "code",
   "execution_count": null,
   "metadata": {},
   "outputs": [],
   "source": []
  }
 ],
 "metadata": {
  "interpreter": {
   "hash": "aee8b7b246df8f9039afb4144a1f6fd8d2ca17a180786b69acc140d282b71a49"
  },
  "kernelspec": {
   "display_name": "Python 3.9.6 64-bit",
   "language": "python",
   "name": "python3"
  },
  "language_info": {
   "codemirror_mode": {
    "name": "ipython",
    "version": 3
   },
   "file_extension": ".py",
   "mimetype": "text/x-python",
   "name": "python",
   "nbconvert_exporter": "python",
   "pygments_lexer": "ipython3",
   "version": "3.9.6"
  },
  "orig_nbformat": 4
 },
 "nbformat": 4,
 "nbformat_minor": 2
}
