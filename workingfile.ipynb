{
 "cells": [
  {
   "cell_type": "code",
   "execution_count": 1,
   "metadata": {},
   "outputs": [],
   "source": [
    "import pandas as pd\n",
    "import re"
   ]
  },
  {
   "cell_type": "markdown",
   "metadata": {},
   "source": [
    "### Imports Json file into a dataframe and creating our table"
   ]
  },
  {
   "cell_type": "code",
   "execution_count": 2,
   "metadata": {},
   "outputs": [
    {
     "data": {
      "text/html": [
       "<div>\n",
       "<style scoped>\n",
       "    .dataframe tbody tr th:only-of-type {\n",
       "        vertical-align: middle;\n",
       "    }\n",
       "\n",
       "    .dataframe tbody tr th {\n",
       "        vertical-align: top;\n",
       "    }\n",
       "\n",
       "    .dataframe thead th {\n",
       "        text-align: right;\n",
       "    }\n",
       "</style>\n",
       "<table border=\"1\" class=\"dataframe\">\n",
       "  <thead>\n",
       "    <tr style=\"text-align: right;\">\n",
       "      <th></th>\n",
       "      <th>course_id</th>\n",
       "      <th>dept_id</th>\n",
       "      <th>name</th>\n",
       "      <th>credits</th>\n",
       "      <th>relationships</th>\n",
       "    </tr>\n",
       "  </thead>\n",
       "  <tbody>\n",
       "    <tr>\n",
       "      <th>3465</th>\n",
       "      <td>MATH115</td>\n",
       "      <td>MATH</td>\n",
       "      <td>Precalculus</td>\n",
       "      <td>3</td>\n",
       "      <td>{'coreqs': None, 'prereqs': 'Must have math el...</td>\n",
       "    </tr>\n",
       "    <tr>\n",
       "      <th>4359</th>\n",
       "      <td>STAT100</td>\n",
       "      <td>STAT</td>\n",
       "      <td>Elementary Statistics and Probability</td>\n",
       "      <td>3</td>\n",
       "      <td>{'coreqs': None, 'prereqs': 'MATH110, MATH112,...</td>\n",
       "    </tr>\n",
       "    <tr>\n",
       "      <th>3022</th>\n",
       "      <td>INST123</td>\n",
       "      <td>INST</td>\n",
       "      <td>Databases for All</td>\n",
       "      <td>3</td>\n",
       "      <td>{'coreqs': None, 'prereqs': None, 'formerly': ...</td>\n",
       "    </tr>\n",
       "    <tr>\n",
       "      <th>3023</th>\n",
       "      <td>INST126</td>\n",
       "      <td>INST</td>\n",
       "      <td>Introduction to Programming for Information Sc...</td>\n",
       "      <td>3</td>\n",
       "      <td>{'coreqs': None, 'prereqs': 'Minimum grade of ...</td>\n",
       "    </tr>\n",
       "    <tr>\n",
       "      <th>3024</th>\n",
       "      <td>INST152</td>\n",
       "      <td>INST</td>\n",
       "      <td>\"Fake Checking\": Battling Misinformation and D...</td>\n",
       "      <td>3</td>\n",
       "      <td>{'coreqs': None, 'prereqs': None, 'formerly': ...</td>\n",
       "    </tr>\n",
       "  </tbody>\n",
       "</table>\n",
       "</div>"
      ],
      "text/plain": [
       "     course_id dept_id                                               name  \\\n",
       "3465   MATH115    MATH                                        Precalculus   \n",
       "4359   STAT100    STAT              Elementary Statistics and Probability   \n",
       "3022   INST123    INST                                  Databases for All   \n",
       "3023   INST126    INST  Introduction to Programming for Information Sc...   \n",
       "3024   INST152    INST  \"Fake Checking\": Battling Misinformation and D...   \n",
       "\n",
       "      credits                                      relationships  \n",
       "3465        3  {'coreqs': None, 'prereqs': 'Must have math el...  \n",
       "4359        3  {'coreqs': None, 'prereqs': 'MATH110, MATH112,...  \n",
       "3022        3  {'coreqs': None, 'prereqs': None, 'formerly': ...  \n",
       "3023        3  {'coreqs': None, 'prereqs': 'Minimum grade of ...  \n",
       "3024        3  {'coreqs': None, 'prereqs': None, 'formerly': ...  "
      ]
     },
     "execution_count": 2,
     "metadata": {},
     "output_type": "execute_result"
    }
   ],
   "source": [
    "\n",
    "pd_df = pd.read_json(\"202008.json\")\n",
    "# imports umd data as a panda df\n",
    "# print(pd_df.head())\n",
    "\n",
    "info = pd_df[[\"course_id\", \"dept_id\", \"name\", \"credits\", \"relationships\"]]\n",
    "\n",
    "math115 = info[info[\"course_id\"] == \"MATH115\"]\n",
    "psych100 = info[info[\"course_id\"] == \"PSYCH100\"]\n",
    "stat100 = info[info[\"course_id\"] == \"STAT100\"]\n",
    "\n",
    "inst_courses = info[info[\"dept_id\"] == \"INST\"]\n",
    "# filters df for courses where dept_id is \"INST\" and selects\n",
    "# columns listed\n",
    "\n",
    "inst_prgm = pd.concat([math115, psych100, stat100, inst_courses])\n",
    "\n",
    "inst_prgm.head()\n",
    "### inst_prgrm is our working dataframe\n"
   ]
  },
  {
   "cell_type": "markdown",
   "metadata": {},
   "source": [
    "### Adding the core courses"
   ]
  },
  {
   "cell_type": "code",
   "execution_count": 3,
   "metadata": {},
   "outputs": [
    {
     "data": {
      "text/html": [
       "<div>\n",
       "<style scoped>\n",
       "    .dataframe tbody tr th:only-of-type {\n",
       "        vertical-align: middle;\n",
       "    }\n",
       "\n",
       "    .dataframe tbody tr th {\n",
       "        vertical-align: top;\n",
       "    }\n",
       "\n",
       "    .dataframe thead th {\n",
       "        text-align: right;\n",
       "    }\n",
       "</style>\n",
       "<table border=\"1\" class=\"dataframe\">\n",
       "  <thead>\n",
       "    <tr style=\"text-align: right;\">\n",
       "      <th></th>\n",
       "      <th>course_id</th>\n",
       "      <th>dept_id</th>\n",
       "      <th>name</th>\n",
       "      <th>credits</th>\n",
       "      <th>relationships</th>\n",
       "      <th>core</th>\n",
       "    </tr>\n",
       "  </thead>\n",
       "  <tbody>\n",
       "    <tr>\n",
       "      <th>3043</th>\n",
       "      <td>INST377</td>\n",
       "      <td>INST</td>\n",
       "      <td>Dynamic Web Applications</td>\n",
       "      <td>3</td>\n",
       "      <td>{'coreqs': None, 'prereqs': '1 course with a m...</td>\n",
       "      <td>False</td>\n",
       "    </tr>\n",
       "  </tbody>\n",
       "</table>\n",
       "</div>"
      ],
      "text/plain": [
       "     course_id dept_id                      name  credits  \\\n",
       "3043   INST377    INST  Dynamic Web Applications        3   \n",
       "\n",
       "                                          relationships   core  \n",
       "3043  {'coreqs': None, 'prereqs': '1 course with a m...  False  "
      ]
     },
     "execution_count": 3,
     "metadata": {},
     "output_type": "execute_result"
    }
   ],
   "source": [
    "core = False\n",
    "\n",
    "inst_prgm[\"core\"] = core\n",
    "\n",
    "inst_prgm.loc[inst_prgm['course_id'] == 'INST201', ['core']] = True\n",
    "inst_prgm.loc[inst_prgm['course_id'] == 'INST311', ['core']] = True\n",
    "inst_prgm.loc[inst_prgm['course_id'] == 'INST314', ['core']] = True\n",
    "inst_prgm.loc[inst_prgm['course_id'] == 'INST326', ['core']] = True\n",
    "inst_prgm.loc[inst_prgm['course_id'] == 'INST327', ['core']] = True\n",
    "inst_prgm.loc[inst_prgm['course_id'] == 'INST335', ['core']] = True\n",
    "inst_prgm.loc[inst_prgm['course_id'] == 'INST346', ['core']] = True\n",
    "inst_prgm.loc[inst_prgm['course_id'] == 'INST352', ['core']] = True\n",
    "inst_prgm.loc[inst_prgm['course_id'] == 'INST362', ['core']] = True\n",
    "inst_prgm.loc[inst_prgm['course_id'] == 'INST490', ['core']] = True\n",
    "\n",
    "inst_prgm[inst_prgm[\"course_id\"] == \"INST377\"]"
   ]
  },
  {
   "cell_type": "markdown",
   "metadata": {},
   "source": [
    "### Adding Benchmark courses"
   ]
  },
  {
   "cell_type": "code",
   "execution_count": 9,
   "metadata": {},
   "outputs": [
    {
     "data": {
      "text/html": [
       "<div>\n",
       "<style scoped>\n",
       "    .dataframe tbody tr th:only-of-type {\n",
       "        vertical-align: middle;\n",
       "    }\n",
       "\n",
       "    .dataframe tbody tr th {\n",
       "        vertical-align: top;\n",
       "    }\n",
       "\n",
       "    .dataframe thead th {\n",
       "        text-align: right;\n",
       "    }\n",
       "</style>\n",
       "<table border=\"1\" class=\"dataframe\">\n",
       "  <thead>\n",
       "    <tr style=\"text-align: right;\">\n",
       "      <th></th>\n",
       "      <th>course_id</th>\n",
       "      <th>dept_id</th>\n",
       "      <th>name</th>\n",
       "      <th>credits</th>\n",
       "      <th>relationships</th>\n",
       "      <th>core</th>\n",
       "      <th>benchmark_I</th>\n",
       "      <th>benchmark_II</th>\n",
       "    </tr>\n",
       "  </thead>\n",
       "  <tbody>\n",
       "    <tr>\n",
       "      <th>3465</th>\n",
       "      <td>MATH115</td>\n",
       "      <td>MATH</td>\n",
       "      <td>Precalculus</td>\n",
       "      <td>3</td>\n",
       "      <td>{'coreqs': None, 'prereqs': 'Must have math el...</td>\n",
       "      <td>False</td>\n",
       "      <td>True</td>\n",
       "      <td>False</td>\n",
       "    </tr>\n",
       "  </tbody>\n",
       "</table>\n",
       "</div>"
      ],
      "text/plain": [
       "     course_id dept_id         name  credits  \\\n",
       "3465   MATH115    MATH  Precalculus        3   \n",
       "\n",
       "                                          relationships   core  benchmark_I  \\\n",
       "3465  {'coreqs': None, 'prereqs': 'Must have math el...  False         True   \n",
       "\n",
       "      benchmark_II  \n",
       "3465         False  "
      ]
     },
     "execution_count": 9,
     "metadata": {},
     "output_type": "execute_result"
    }
   ],
   "source": [
    "benchmark_I = False\n",
    "\n",
    "inst_prgm[\"benchmark_I\"] = benchmark_I\n",
    "\n",
    "inst_prgm.loc[inst_prgm['course_id'] == 'MATH115', ['benchmark_I']] = True\n",
    "inst_prgm.loc[inst_prgm['course_id'] == 'PSYCH100', ['benchmark_I']] = True\n",
    "\n",
    "\n",
    "\n",
    "benchmark_II = False\n",
    "\n",
    "inst_prgm[\"benchmark_II\"] = benchmark_II\n",
    "\n",
    "inst_prgm.loc[inst_prgm['course_id'] == 'STAT100', ['benchmark_II']] = True\n",
    "inst_prgm.loc[inst_prgm['course_id'] == 'INST126', ['benchmark_II']] = True\n",
    "inst_prgm.loc[inst_prgm['course_id'] == 'INST201', ['benchmark_II']] = True\n",
    "\n",
    "\n",
    "\n",
    "\n",
    "\n",
    "inst_prgm[inst_prgm[\"course_id\"] == \"MATH115\"]\n"
   ]
  },
  {
   "cell_type": "markdown",
   "metadata": {},
   "source": [
    "### Finding the prereq info for a course"
   ]
  },
  {
   "cell_type": "code",
   "execution_count": null,
   "metadata": {},
   "outputs": [],
   "source": [
    "course = [d.get(\"prereqs\") for d in inst_courses[inst_courses[\"course_id\"] == \"INST362\"].relationships]\n",
    "# change the course_id above to find info on a different class\n",
    "# this could be changed to a variable to make it dynamic\n",
    "print(course)\n",
    "regex = r\"\"\"\n",
    "(?xm)\n",
    "(?P<course>[A-Z]+\\d+)\n",
    "\"\"\"\n",
    "\n",
    "courses = re.findall(regex, str(course))\n",
    "print(courses)"
   ]
  },
  {
   "cell_type": "code",
   "execution_count": null,
   "metadata": {},
   "outputs": [],
   "source": [
    "test"
   ]
  },
  {
   "cell_type": "code",
   "execution_count": null,
   "metadata": {},
   "outputs": [],
   "source": [
    "test"
   ]
  }
 ],
 "metadata": {
  "interpreter": {
   "hash": "aee8b7b246df8f9039afb4144a1f6fd8d2ca17a180786b69acc140d282b71a49"
  },
  "kernelspec": {
   "display_name": "Python 3.9.6 64-bit",
   "language": "python",
   "name": "python3"
  },
  "language_info": {
   "codemirror_mode": {
    "name": "ipython",
    "version": 3
   },
   "file_extension": ".py",
   "mimetype": "text/x-python",
   "name": "python",
   "nbconvert_exporter": "python",
   "pygments_lexer": "ipython3",
   "version": "3.9.6"
  },
  "orig_nbformat": 4
 },
 "nbformat": 4,
 "nbformat_minor": 2
}
